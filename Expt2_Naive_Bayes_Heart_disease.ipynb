{
  "nbformat": 4,
  "nbformat_minor": 0,
  "metadata": {
    "colab": {
      "provenance": [],
      "include_colab_link": true
    },
    "kernelspec": {
      "name": "python3",
      "display_name": "Python 3"
    },
    "language_info": {
      "name": "python"
    }
  },
  "cells": [
    {
      "cell_type": "markdown",
      "metadata": {
        "id": "view-in-github",
        "colab_type": "text"
      },
      "source": [
        "<a href=\"https://colab.research.google.com/github/binmalik018/Spoon-Knife/blob/main/Expt2_Naive_Bayes_Heart_disease.ipynb\" target=\"_parent\"><img src=\"https://colab.research.google.com/assets/colab-badge.svg\" alt=\"Open In Colab\"/></a>"
      ]
    },
    {
      "cell_type": "code",
      "execution_count": null,
      "metadata": {
        "id": "9rmUKf3S9VTL"
      },
      "outputs": [],
      "source": [
        "import pandas as pd\n",
        "import numpy as np\n",
        "from sklearn.model_selection import train_test_split\n",
        "from sklearn.naive_bayes import GaussianNB\n",
        "from sklearn import metrics\n"
      ]
    },
    {
      "cell_type": "code",
      "source": [
        "ds = pd.read_csv('/content/heart.csv')"
      ],
      "metadata": {
        "id": "blq1v0Nf9dcM"
      },
      "execution_count": null,
      "outputs": []
    },
    {
      "cell_type": "code",
      "source": [
        "x = ds.drop(columns = 'target', axis =1)\n",
        "y= ds['target']"
      ],
      "metadata": {
        "id": "Kar57bNs9i3U"
      },
      "execution_count": null,
      "outputs": []
    },
    {
      "cell_type": "code",
      "source": [
        "x_train, x_test, y_train, y_test = train_test_split(x, y, test_size = 0.2, random_state=1)\n",
        "print(x.shape, x_train.shape, x_test.shape)"
      ],
      "metadata": {
        "id": "6uPVpM9C9kvD",
        "colab": {
          "base_uri": "https://localhost:8080/"
        },
        "outputId": "bce653f1-39b4-4206-a369-2d128ffc6601"
      },
      "execution_count": null,
      "outputs": [
        {
          "output_type": "stream",
          "name": "stdout",
          "text": [
            "(1025, 13) (820, 13) (205, 13)\n"
          ]
        }
      ]
    },
    {
      "cell_type": "code",
      "source": [
        "nb = GaussianNB()"
      ],
      "metadata": {
        "id": "cm-Jsnk49mah"
      },
      "execution_count": null,
      "outputs": []
    },
    {
      "cell_type": "code",
      "source": [
        "nb.fit(x_train, y_train)\n",
        "training_prediction = nb.predict(x_train)\n",
        "training_accuracy = metrics.accuracy_score(training_prediction, y_train)\n",
        "print('training accuracy = ',training_accuracy)"
      ],
      "metadata": {
        "id": "LHNfC8p59prY",
        "colab": {
          "base_uri": "https://localhost:8080/"
        },
        "outputId": "044c4cf8-a9e2-4089-aea7-d91f2ed1100a"
      },
      "execution_count": null,
      "outputs": [
        {
          "output_type": "stream",
          "name": "stdout",
          "text": [
            "training accuracy =  0.8426829268292683\n"
          ]
        }
      ]
    },
    {
      "cell_type": "code",
      "source": [
        "testing_prediction = nb.predict(x_test)\n",
        "testing_accuracy = metrics.accuracy_score(testing_prediction, y_test)\n",
        "print('testing accuracy = ',testing_accuracy)"
      ],
      "metadata": {
        "colab": {
          "base_uri": "https://localhost:8080/"
        },
        "id": "ZV7jCbOb9syf",
        "outputId": "fab6c1b7-1589-41e7-a9f7-f58281066850"
      },
      "execution_count": null,
      "outputs": [
        {
          "output_type": "stream",
          "name": "stdout",
          "text": [
            "testing accuracy =  0.7804878048780488\n"
          ]
        }
      ]
    },
    {
      "cell_type": "code",
      "source": [
        "#input = (64,1,2,125,309,0,1,131,1,1.8,1,0,3)\n",
        "input = (67,\t0,\t0,\t106,\t223,\t0,\t1,\t142,\t0,\t0.3,\t2,\t2,\t2)\n",
        "input_array = np.asarray(input)\n",
        "reshape_array = input_array.reshape(1,-1)\n",
        "prediction = nb.predict(reshape_array)\n",
        "if prediction[0]==0:\n",
        "  print('No')\n",
        "else:\n",
        "  print('Yes')"
      ],
      "metadata": {
        "colab": {
          "base_uri": "https://localhost:8080/"
        },
        "id": "d7Js-uI79u5O",
        "outputId": "348d27d8-704c-401f-d853-412de5ad570b"
      },
      "execution_count": null,
      "outputs": [
        {
          "output_type": "stream",
          "name": "stdout",
          "text": [
            "Yes\n"
          ]
        },
        {
          "output_type": "stream",
          "name": "stderr",
          "text": [
            "/usr/local/lib/python3.10/dist-packages/sklearn/base.py:439: UserWarning: X does not have valid feature names, but GaussianNB was fitted with feature names\n",
            "  warnings.warn(\n"
          ]
        }
      ]
    }
  ]
}